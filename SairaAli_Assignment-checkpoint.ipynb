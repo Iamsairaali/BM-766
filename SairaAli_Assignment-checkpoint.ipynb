{
 "cells": [
  {
   "cell_type": "markdown",
   "id": "834a6d8b",
   "metadata": {},
   "source": [
    "Q2. Rewrite your pay computation with time-and-a- half for overtime and create a function called compute pay which takes two parameters ( hours and rate).\n",
    "Enter Hours: 45\n",
    "Enter Rate: 10\n",
    "Pay: 475.0\n"
   ]
  },
  {
   "cell_type": "code",
   "execution_count": 32,
   "id": "a46974ec",
   "metadata": {},
   "outputs": [
    {
     "name": "stdout",
     "output_type": "stream",
     "text": [
      "Enter Hours: 45\n",
      "Enter Rate: 10\n",
      "Pay: 475.0\n"
     ]
    }
   ],
   "source": [
    "import numpy as np\n",
    "import pandas as pd\n",
    "\n",
    "def compute_pay(hours, rate):\n",
    "    if hours <= 40:\n",
    "        pay = hours * rate\n",
    "    else:\n",
    "        regular_pay = 40 * rate\n",
    "        overtime_pay = (hours - 40) * (rate * 1.5)\n",
    "        pay = regular_pay + overtime_pay\n",
    "    return pay\n",
    "\n",
    "hours = float(input(\"Enter Hours: \"))\n",
    "rate = float(input(\"Enter Rate: \"))\n",
    "\n",
    "pay = compute_pay(hours, rate)\n",
    "\n",
    "# Print the calculated pay\n",
    "print(\"Pay: \" + str(pay))"
   ]
  },
  {
   "cell_type": "markdown",
   "id": "15cdf2b0",
   "metadata": {},
   "source": [
    "Q3. Find the Largest value from a given list [9, 41, 12, 3, 74, 15]"
   ]
  },
  {
   "cell_type": "code",
   "execution_count": 33,
   "id": "fd6fe18d",
   "metadata": {},
   "outputs": [
    {
     "name": "stdout",
     "output_type": "stream",
     "text": [
      "The largest value in the list is: 74\n"
     ]
    }
   ],
   "source": [
    "my_list = [9, 41, 12, 3, 74, 15]\n",
    "\n",
    "largest_value = my_list[0]\n",
    "\n",
    "for i in range(1, len(my_list)):\n",
    "   \n",
    "    if my_list[i] > largest_value:\n",
    "        largest_value = my_list[i]\n",
    "\n",
    "# Print the largest value in the list\n",
    "print(\"The largest value in the list is:\", largest_value)"
   ]
  },
  {
   "cell_type": "markdown",
   "id": "eb2c63f7",
   "metadata": {},
   "source": [
    "Q4. Find the smallest value from a given list [9, 41, 12, 3, 74, 15]"
   ]
  },
  {
   "cell_type": "code",
   "execution_count": 34,
   "id": "8b6d07b3",
   "metadata": {},
   "outputs": [
    {
     "name": "stdout",
     "output_type": "stream",
     "text": [
      "The smallest value in the list is: 3\n"
     ]
    }
   ],
   "source": [
    "my_list = [9, 41, 12, 3, 74, 15]\n",
    "\n",
    "smallest_value = my_list[0]\n",
    "\n",
    "for i in range(1, len(my_list)):\n",
    "\n",
    "    if my_list[i] < smallest_value:\n",
    "        smallest_value = my_list[i]\n",
    "\n",
    "# Print the smallest value in the list\n",
    "print(\"The smallest value in the list is:\", smallest_value)"
   ]
  },
  {
   "cell_type": "markdown",
   "id": "35644751",
   "metadata": {},
   "source": [
    "Q5.Find the average of a given list [9, 41, 12, 3, 74, 15]"
   ]
  },
  {
   "cell_type": "code",
   "execution_count": 35,
   "id": "46789719",
   "metadata": {},
   "outputs": [
    {
     "name": "stdout",
     "output_type": "stream",
     "text": [
      "The average of the list is: 25.666666666666668\n"
     ]
    }
   ],
   "source": [
    "my_list = [9, 41, 12, 3, 74, 15]\n",
    "\n",
    "sum = 0\n",
    "\n",
    "for i in range(len(my_list)):\n",
    "    sum += my_list[i]\n",
    "\n",
    "average = sum / len(my_list)\n",
    "\n",
    "# Print the average of the list\n",
    "print(\"The average of the list is:\", average)"
   ]
  },
  {
   "cell_type": "markdown",
   "id": "7168a54d",
   "metadata": {},
   "source": [
    "Q6. Search if a given value 74 is present in a given list [9, 41, 12, 3, 74, 15]"
   ]
  },
  {
   "cell_type": "code",
   "execution_count": 36,
   "id": "05186b4d",
   "metadata": {},
   "outputs": [
    {
     "name": "stdout",
     "output_type": "stream",
     "text": [
      "The value 74 is present in the list.\n"
     ]
    }
   ],
   "source": [
    "my_list = [9, 41, 12, 3, 74, 15]\n",
    "\n",
    "search_value = 74\n",
    "\n",
    "if search_value in my_list:\n",
    "    # If it is, print a message saying so\n",
    "    print(\"The value\", search_value, \"is present in the list.\")\n",
    "else:\n",
    "    # If it's not, print a message saying so\n",
    "    print(\"The value\", search_value, \"is not present in the list.\")\n"
   ]
  },
  {
   "cell_type": "markdown",
   "id": "a07bc3d1",
   "metadata": {},
   "source": [
    "Q7. Input a file mbox.txt during runtime and count the number of lines."
   ]
  },
  {
   "cell_type": "code",
   "execution_count": 37,
   "id": "0858353c",
   "metadata": {},
   "outputs": [
    {
     "name": "stdout",
     "output_type": "stream",
     "text": [
      "Total Numbers in lines in this file is: 332\n"
     ]
    }
   ],
   "source": [
    "with open(r\"C:\\Users\\Hassan Laptop Point\\Documents\\New folder\\mbox.txt\", 'r') as fp:\n",
    "    for count, line in enumerate(fp):\n",
    "        pass\n",
    "print('Total Numbers in lines in this file is:', count + 1)"
   ]
  },
  {
   "cell_type": "markdown",
   "id": "608a8d67",
   "metadata": {},
   "source": [
    "Q8. Take multiple inputs from user one by one and find their average."
   ]
  },
  {
   "cell_type": "code",
   "execution_count": 38,
   "id": "cacc6736",
   "metadata": {},
   "outputs": [
    {
     "name": "stdout",
     "output_type": "stream",
     "text": [
      "Enter multiple values: 33 53 55 13 50\n",
      "List of students:  [33, 53, 55, 13, 50]\n",
      "The average of the list is: 40.8\n"
     ]
    }
   ],
   "source": [
    "x = list(map(int, input(\"Enter multiple values: \").split()))\n",
    "\n",
    "print(\"List of students: \", x)\n",
    "\n",
    "sum = 0\n",
    "for i in range(len(x)):\n",
    "    sum += x[i]\n",
    "\n",
    "average = sum / len(x)\n",
    "\n",
    "# Print the average of the values in the list\n",
    "print(\"The average of the list is:\", average)\n"
   ]
  },
  {
   "cell_type": "markdown",
   "id": "bcca6d64",
   "metadata": {},
   "source": [
    "Q9. Enter a sentence and count of words in that sentence."
   ]
  },
  {
   "cell_type": "code",
   "execution_count": 39,
   "id": "08325586",
   "metadata": {},
   "outputs": [
    {
     "name": "stdout",
     "output_type": "stream",
     "text": [
      "Enter a sentence: hi, Hi, Everything has some purpose. Humans are the best creation, and each person is exclusive.\n",
      "The sentence contains= 16 words.\n"
     ]
    }
   ],
   "source": [
    "sentence = input(\"Enter a sentence: \")  \n",
    "\n",
    "# split the sentence into words using the split() function\n",
    "words = sentence.split()\n",
    "\n",
    "# count the number of words\n",
    "word_count = len(words)\n",
    "\n",
    "# print the result\n",
    "print(\"The sentence contains=\", word_count, \"words.\")"
   ]
  },
  {
   "cell_type": "markdown",
   "id": "f4c43b04",
   "metadata": {},
   "source": [
    "Q10. Find the most common word in a file."
   ]
  },
  {
   "cell_type": "code",
   "execution_count": 40,
   "id": "d251df06",
   "metadata": {},
   "outputs": [
    {
     "name": "stdout",
     "output_type": "stream",
     "text": [
      "Enter the file name: myfile.txt\n",
      "The most common word is 'wind' with a count of 171.\n"
     ]
    }
   ],
   "source": [
    "filename = input(\"Enter the file name: \")\n",
    "file = open(filename, \"r\")\n",
    "\n",
    "word_counts = {}\n",
    "\n",
    "for line in file:\n",
    "    words = line.split()\n",
    "    for word in words:\n",
    "        if word in word_counts:\n",
    "            word_counts[word] += 1\n",
    "        else:\n",
    "            word_counts[word] = 1\n",
    "\n",
    "most_common_word = max(word_counts, key=word_counts.get)\n",
    "count = word_counts[most_common_word]\n",
    "\n",
    "print(\"The most common word is '{0}' with a count of {1}.\".format(most_common_word, count))\n",
    "\n",
    "file.close()"
   ]
  },
  {
   "cell_type": "code",
   "execution_count": null,
   "id": "3220988c",
   "metadata": {},
   "outputs": [],
   "source": []
  }
 ],
 "metadata": {
  "kernelspec": {
   "display_name": "Python 3 (ipykernel)",
   "language": "python",
   "name": "python3"
  },
  "language_info": {
   "codemirror_mode": {
    "name": "ipython",
    "version": 3
   },
   "file_extension": ".py",
   "mimetype": "text/x-python",
   "name": "python",
   "nbconvert_exporter": "python",
   "pygments_lexer": "ipython3",
   "version": "3.9.13"
  }
 },
 "nbformat": 4,
 "nbformat_minor": 5
}
